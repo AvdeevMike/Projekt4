{
  "nbformat": 4,
  "nbformat_minor": 0,
  "metadata": {
    "colab": {
      "provenance": [],
      "authorship_tag": "ABX9TyNa0qrRkrPjJOxB+fkPwxNQ",
      "include_colab_link": true
    },
    "kernelspec": {
      "name": "python3",
      "display_name": "Python 3"
    },
    "language_info": {
      "name": "python"
    }
  },
  "cells": [
    {
      "cell_type": "markdown",
      "metadata": {
        "id": "view-in-github",
        "colab_type": "text"
      },
      "source": [
        "<a href=\"https://colab.research.google.com/github/AvdeevMike/Projekt4/blob/main/Untitled2.ipynb\" target=\"_parent\"><img src=\"https://colab.research.google.com/assets/colab-badge.svg\" alt=\"Open In Colab\"/></a>"
      ]
    },
    {
      "cell_type": "code",
      "source": [
        "import tensorflow as tf\n",
        "from tensorflow import keras\n",
        "from sklearn.model_selection import train_test_split\n",
        "\n",
        "# Шаг 1: Загрузка данных\n",
        "(x_train, y_train), (x_test, y_test) = keras.datasets.cifar10.load_data()\n",
        "\n",
        "# Преобразование и нормализация данных\n",
        "x_train = x_train.astype('float32') / 255.0\n",
        "x_test = x_test.astype('float32') / 255.0\n",
        "\n",
        "# Разделение на тренировочный и валидационный наборы\n",
        "x_train, x_val, y_train, y_val = train_test_split(x_train, y_train, test_size=0.2, random_state=42)\n",
        "\n",
        "# Шаг 2: Создание сверточной нейронной сети\n",
        "model = keras.models.Sequential([\n",
        "    keras.layers.Conv2D(32, (3, 3), activation='relu', padding='same', input_shape=(32, 32, 3)),\n",
        "    keras.layers.MaxPooling2D((2, 2)),\n",
        "    keras.layers.Conv2D(64, (3, 3), activation='relu', padding='same'),\n",
        "    keras.layers.MaxPooling2D((2, 2)),\n",
        "    keras.layers.Conv2D(64, (3, 3), activation='relu', padding='same'),\n",
        "    keras.layers.Flatten(),\n",
        "    keras.layers.Dense(64, activation='relu'),\n",
        "    keras.layers.Dense(10, activation='softmax')\n",
        "])\n",
        "\n",
        "# Шаг 3: Обучение сверточной нейронной сети\n",
        "model.compile(optimizer='adam', loss='sparse_categorical_crossentropy', metrics=['accuracy'])\n",
        "model.fit(x_train, y_train, epochs=10, validation_data=(x_val, y_val))\n",
        "\n",
        "# Шаг 4: Оценка производительности модели\n",
        "test_loss, test_acc = model.evaluate(x_test, y_test)\n",
        "print('Test accuracy:', test_acc)"
      ],
      "metadata": {
        "colab": {
          "base_uri": "https://localhost:8080/"
        },
        "id": "909YvI3eCP7L",
        "outputId": "6b25a045-025b-4a5b-b2bd-5b3563704a66"
      },
      "execution_count": 2,
      "outputs": [
        {
          "output_type": "stream",
          "name": "stdout",
          "text": [
            "Downloading data from https://www.cs.toronto.edu/~kriz/cifar-10-python.tar.gz\n",
            "170498071/170498071 [==============================] - 4s 0us/step\n",
            "Epoch 1/10\n",
            "1250/1250 [==============================] - 89s 70ms/step - loss: 1.4768 - accuracy: 0.4681 - val_loss: 1.2013 - val_accuracy: 0.5757\n",
            "Epoch 2/10\n",
            "1250/1250 [==============================] - 84s 67ms/step - loss: 1.0499 - accuracy: 0.6302 - val_loss: 0.9962 - val_accuracy: 0.6483\n",
            "Epoch 3/10\n",
            "1250/1250 [==============================] - 84s 67ms/step - loss: 0.8817 - accuracy: 0.6892 - val_loss: 0.9349 - val_accuracy: 0.6797\n",
            "Epoch 4/10\n",
            "1250/1250 [==============================] - 85s 68ms/step - loss: 0.7734 - accuracy: 0.7287 - val_loss: 0.8280 - val_accuracy: 0.7143\n",
            "Epoch 5/10\n",
            "1250/1250 [==============================] - 86s 69ms/step - loss: 0.6899 - accuracy: 0.7579 - val_loss: 0.8497 - val_accuracy: 0.7088\n",
            "Epoch 6/10\n",
            "1250/1250 [==============================] - 89s 71ms/step - loss: 0.6127 - accuracy: 0.7849 - val_loss: 0.8187 - val_accuracy: 0.7264\n",
            "Epoch 7/10\n",
            "1250/1250 [==============================] - 87s 70ms/step - loss: 0.5427 - accuracy: 0.8073 - val_loss: 0.8484 - val_accuracy: 0.7208\n",
            "Epoch 8/10\n",
            "1250/1250 [==============================] - 85s 68ms/step - loss: 0.4768 - accuracy: 0.8296 - val_loss: 0.8728 - val_accuracy: 0.7308\n",
            "Epoch 9/10\n",
            "1250/1250 [==============================] - 86s 68ms/step - loss: 0.4124 - accuracy: 0.8546 - val_loss: 0.8945 - val_accuracy: 0.7232\n",
            "Epoch 10/10\n",
            "1250/1250 [==============================] - 85s 68ms/step - loss: 0.3608 - accuracy: 0.8718 - val_loss: 1.0252 - val_accuracy: 0.6999\n",
            "313/313 [==============================] - 5s 17ms/step - loss: 1.0779 - accuracy: 0.6986\n",
            "Test accuracy: 0.6985999941825867\n"
          ]
        }
      ]
    }
  ]
}
